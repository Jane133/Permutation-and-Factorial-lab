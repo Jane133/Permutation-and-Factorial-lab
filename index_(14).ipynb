{
  "cells": [
    {
      "cell_type": "markdown",
      "metadata": {
        "id": "xlupCuhfcAE3"
      },
      "source": [
        "# Permutations and Factorials - Lab"
      ]
    },
    {
      "cell_type": "markdown",
      "metadata": {
        "id": "gaRT-t7JcAE5"
      },
      "source": [
        "## Introduction"
      ]
    },
    {
      "cell_type": "markdown",
      "metadata": {
        "id": "01lXGggRcAE5"
      },
      "source": [
        "Before, we saw how the creation of a sample space is crucial in finding probabilities. The issue, however is that, when the sample space grows bigger, it is not straightforward to manually compute the size of sample sets anymore.\n",
        "\n",
        "Luckily, probability theory provides us with several formulas that can help us out. One set of formulas is known as **permutations**. This lab will help you get a better understanding of permutations, and provide practice!"
      ]
    },
    {
      "cell_type": "markdown",
      "metadata": {
        "id": "8EY2CVzPcAE6"
      },
      "source": [
        "## Objectives"
      ]
    },
    {
      "cell_type": "markdown",
      "metadata": {
        "id": "eK9p4MvmcAE6"
      },
      "source": [
        "You will be able to:\n",
        "\n",
        "* Mathematically derive how many permutations there are for large sets\n",
        "* Calculate permutations of a subset\n",
        "* Calculate permutations with repetition and replacement"
      ]
    },
    {
      "cell_type": "markdown",
      "metadata": {
        "id": "E2QgwBoLcAE6"
      },
      "source": [
        "## A Note on Factorials"
      ]
    },
    {
      "cell_type": "markdown",
      "metadata": {
        "id": "6QkJztZacAE6"
      },
      "source": [
        "In the last lesson, we talked about permutations in the context of a coverband creating a setlist. We wanted to calculate how many ways we can order 3 songs in their setlist. We can use factorials for that. For 3 songs, this boils down to"
      ]
    },
    {
      "cell_type": "code",
      "execution_count": null,
      "metadata": {
        "id": "Qtw4QUrLcAE6"
      },
      "outputs": [],
      "source": [
        "setlist = 3*2*1"
      ]
    },
    {
      "cell_type": "markdown",
      "metadata": {
        "id": "RM1UsT6OcAE7"
      },
      "source": [
        "Now, writing this out is not an issue when $n$ is small. What if $n$ grows though? Imagine there are 10 songs in the setlist"
      ]
    },
    {
      "cell_type": "code",
      "execution_count": null,
      "metadata": {
        "id": "NBCSZBu1cAE7"
      },
      "outputs": [],
      "source": [
        "setlist = 10*9*8*7*6*5*4*3*2*1"
      ]
    },
    {
      "cell_type": "markdown",
      "metadata": {
        "id": "6SL5XlCpcAE7"
      },
      "source": [
        "You wouldn't want to repeat this for 25 songs...  Let's create a function for this!"
      ]
    },
    {
      "cell_type": "markdown",
      "metadata": {
        "id": "DV9sQeEEcAE8"
      },
      "source": [
        "What you'll do below is:\n",
        "\n",
        "- create a function that takes one argument, $n$\n",
        "- initialize `prod` as 1\n",
        "- next, use `prod` in a `while` loop (what is the stopping criterion?)\n",
        "- update $n$ so it decreases with value 1 each iteration. This way you essentially calculate $n*(n-1)*(n-2)*\\ldots*(1)$"
      ]
    },
    {
      "cell_type": "code",
      "execution_count": 4,
      "metadata": {
        "id": "12l7Ez1qcAE8"
      },
      "outputs": [],
      "source": [
        "def factorial(n):\n",
        "    prod = 1\n",
        "    while n >= 1:\n",
        "        prod = prod * n\n",
        "        n = n - 1\n",
        "    return prod"
      ]
    },
    {
      "cell_type": "markdown",
      "metadata": {
        "id": "U1yDoX40cAE8"
      },
      "source": [
        "Now, test your function with n=20"
      ]
    },
    {
      "cell_type": "code",
      "execution_count": 5,
      "metadata": {
        "colab": {
          "base_uri": "https://localhost:8080/"
        },
        "id": "G4V2V8UgcAE8",
        "outputId": "6b679610-e231-489e-b0e8-229f5b96037f"
      },
      "outputs": [
        {
          "output_type": "execute_result",
          "data": {
            "text/plain": [
              "2432902008176640000"
            ]
          },
          "metadata": {},
          "execution_count": 5
        }
      ],
      "source": [
        "factorial(20)\n",
        ""
      ]
    },
    {
      "cell_type": "markdown",
      "metadata": {
        "id": "uqMlw1R1cAE8"
      },
      "source": [
        "Just so you know, Python has a built-in function `factorial` in the  `math` library as well! Let's use our own function in this lab, but just use the `math` function once to check your previous answer!"
      ]
    },
    {
      "cell_type": "code",
      "execution_count": 6,
      "metadata": {
        "colab": {
          "base_uri": "https://localhost:8080/"
        },
        "id": "jGxEoBN_cAE9",
        "outputId": "ad6c50e1-7282-433a-cefc-7c27d2ff6682"
      },
      "outputs": [
        {
          "output_type": "execute_result",
          "data": {
            "text/plain": [
              "2432902008176640000"
            ]
          },
          "metadata": {},
          "execution_count": 6
        }
      ],
      "source": [
        "import math\n",
        "\n",
        "math.factorial(20)"
      ]
    },
    {
      "cell_type": "markdown",
      "metadata": {
        "id": "6jofDlCYcAE9"
      },
      "source": [
        "## Some Practice on Permutations"
      ]
    },
    {
      "cell_type": "markdown",
      "metadata": {
        "id": "Nv0HXHVYcAE9"
      },
      "source": [
        "Let's go back to the appointments exercise from the last lab. A teaching assistant is holding office hours so students can make appointments. She has 6 appointments scheduled today, 3 by male students and 3 by female students. How many ways are there to order the appointments, based on gender of the students? Just to clarify, we're looking for size of the sample space that lists possible orders like this:\n",
        "\n",
        "FMFMFM <br />\n",
        "MMMFFF <br />\n",
        "FMFMMF <br />\n",
        "...\n",
        "\n",
        "\n",
        "From what you learned in the permutations lecture, you now have a more structured way of getting to the whole sample space!\n",
        "\n",
        "Hint: a permutation with repetition is needed here, with formula $\\dfrac{n!}{n_1!n_2!\\ldots n_k!}$. Think carefully of what needs to go in the denominator and the numerator respectively."
      ]
    },
    {
      "cell_type": "code",
      "execution_count": 7,
      "metadata": {
        "colab": {
          "base_uri": "https://localhost:8080/"
        },
        "id": "Jo0amNrZcAE9",
        "outputId": "0824dedf-e970-4b49-fcb8-af0a7b2595d1"
      },
      "outputs": [
        {
          "output_type": "execute_result",
          "data": {
            "text/plain": [
              "720"
            ]
          },
          "metadata": {},
          "execution_count": 7
        }
      ],
      "source": [
        "app_num = factorial(6) # 6 total students (3 male + 3 female)\n",
        "app_num"
      ]
    },
    {
      "cell_type": "code",
      "execution_count": 8,
      "metadata": {
        "colab": {
          "base_uri": "https://localhost:8080/"
        },
        "id": "m8rkVUnIcAE9",
        "outputId": "e2b0c2d9-f9b0-4f77-d465-b5f7caf0e869"
      },
      "outputs": [
        {
          "output_type": "stream",
          "name": "stdout",
          "text": [
            "36\n"
          ]
        }
      ],
      "source": [
        "app_denom = factorial(3)*factorial(3) # 2 groups, with 3 students each\n",
        "print(app_denom)"
      ]
    },
    {
      "cell_type": "code",
      "execution_count": 9,
      "metadata": {
        "colab": {
          "base_uri": "https://localhost:8080/"
        },
        "id": "PYrbS0T2cAE-",
        "outputId": "8a239940-4ad2-4bd0-9caa-4bada422ca6c"
      },
      "outputs": [
        {
          "output_type": "execute_result",
          "data": {
            "text/plain": [
              "20.0"
            ]
          },
          "metadata": {},
          "execution_count": 9
        }
      ],
      "source": [
        "app_total = app_num/app_denom\n",
        "app_total\n"
      ]
    },
    {
      "cell_type": "markdown",
      "metadata": {
        "id": "_xhn77apcAE-"
      },
      "source": [
        "## Permutations: Hack a Phone"
      ]
    },
    {
      "cell_type": "markdown",
      "metadata": {
        "id": "bPY0z8focAE-"
      },
      "source": [
        "You misplaced your iPhone and are afraid it was stolen. Luckily, your iPhone needs a 4-digit code in order to get in. Imagine that a potential thief can do five attempts at getting the code right before the phone is permanently locked, how big is the chance the thief unlocks the phone?"
      ]
    },
    {
      "cell_type": "markdown",
      "metadata": {
        "id": "qi0otNovcAE-"
      },
      "source": [
        "Think about the sample space and the event space separately. You'll use the formula $P(E) = \\dfrac{|E|}{|S|}$ here.\n",
        "\n",
        "So what should go in the denominator?"
      ]
    },
    {
      "cell_type": "code",
      "execution_count": 10,
      "metadata": {
        "colab": {
          "base_uri": "https://localhost:8080/"
        },
        "id": "a86s1k8WcAE-",
        "outputId": "83cf8a55-33ae-4975-cbee-43653980e461"
      },
      "outputs": [
        {
          "output_type": "execute_result",
          "data": {
            "text/plain": [
              "10000"
            ]
          },
          "metadata": {},
          "execution_count": 10
        }
      ],
      "source": [
        "denom_phone = 10**4 # Each of the 4 digits can be a number between 0 and 9 (10 possible numbers)\n",
        "denom_phone"
      ]
    },
    {
      "cell_type": "markdown",
      "metadata": {
        "id": "lKmsn-3tcAE-"
      },
      "source": [
        "And the numerator?"
      ]
    },
    {
      "cell_type": "code",
      "execution_count": 11,
      "metadata": {
        "colab": {
          "base_uri": "https://localhost:8080/"
        },
        "id": "38Mr8FVxcAE-",
        "outputId": "33fd0514-e3f6-4a6c-963e-d26c2e4f8e01"
      },
      "outputs": [
        {
          "output_type": "execute_result",
          "data": {
            "text/plain": [
              "5"
            ]
          },
          "metadata": {},
          "execution_count": 11
        }
      ],
      "source": [
        "numer_phone = 5 # 5 tries at unlocking the phone\n",
        "numer_phone"
      ]
    },
    {
      "cell_type": "code",
      "execution_count": 12,
      "metadata": {
        "colab": {
          "base_uri": "https://localhost:8080/"
        },
        "id": "4N3b5fxxcAE_",
        "outputId": "483683d4-91f5-4286-cacc-1feea4756949"
      },
      "outputs": [
        {
          "output_type": "execute_result",
          "data": {
            "text/plain": [
              "0.0005"
            ]
          },
          "metadata": {},
          "execution_count": 12
        }
      ],
      "source": [
        "prob_unlock = numer_phone/denom_phone\n",
        "prob_unlock"
      ]
    },
    {
      "cell_type": "markdown",
      "metadata": {
        "id": "rFJmvV9McAE_"
      },
      "source": [
        "Right before you lost your phone you ate a pretzel, and you are pretty sure a grease pattern was left on the four crucial digits of your screen. The four letters in your access code are 3,4,7 and 8, and you realize that this information can increase the thief's chances massively. Assuming the thief interprets the smudgemarks in an intelligent way, what are the chances that the phone will be unlocked successfully?"
      ]
    },
    {
      "cell_type": "code",
      "execution_count": 13,
      "metadata": {
        "colab": {
          "base_uri": "https://localhost:8080/"
        },
        "id": "r5LX8RIjcAE_",
        "outputId": "f5e2fb1c-da76-4e16-ee05-7352a368771e"
      },
      "outputs": [
        {
          "output_type": "execute_result",
          "data": {
            "text/plain": [
              "24"
            ]
          },
          "metadata": {},
          "execution_count": 13
        }
      ],
      "source": [
        "denom_phone_smudge = factorial(4) #or math.factorial(4) - every combo of 3, 4, 7, 8\n",
        "denom_phone_smudge"
      ]
    },
    {
      "cell_type": "code",
      "execution_count": 14,
      "metadata": {
        "colab": {
          "base_uri": "https://localhost:8080/"
        },
        "id": "JSllNgYgcAE_",
        "outputId": "f867ecff-ceea-4618-ba8b-20c6ca181abd"
      },
      "outputs": [
        {
          "output_type": "execute_result",
          "data": {
            "text/plain": [
              "5"
            ]
          },
          "metadata": {},
          "execution_count": 14
        }
      ],
      "source": [
        "numer_phone_smudge = 5 # 5 tries at unlocking the phone\n",
        "numer_phone_smudge"
      ]
    },
    {
      "cell_type": "code",
      "execution_count": 15,
      "metadata": {
        "colab": {
          "base_uri": "https://localhost:8080/"
        },
        "id": "CpDNrabOcAE_",
        "outputId": "ac248e08-ce11-42b8-b66f-6b845676f915"
      },
      "outputs": [
        {
          "output_type": "execute_result",
          "data": {
            "text/plain": [
              "0.20833333333333334"
            ]
          },
          "metadata": {},
          "execution_count": 15
        }
      ],
      "source": [
        "prob_unlock_smudge = numer_phone_smudge/denom_phone_smudge\n",
        "prob_unlock_smudge"
      ]
    },
    {
      "cell_type": "markdown",
      "metadata": {
        "id": "HSzQ-MhucAE_"
      },
      "source": [
        "Now, imagine you chose an iphone access code containing 3 different numbers, with numbers 2,7 and 8 (the code is still 4 digits). Now, the thief knows 1 number was reused (permutations with repetition!), but he doesn't know which one. what is the probability now that the phone will be unlocked successfully?\n",
        "\n",
        "- For the denominator here, use a permutation with repetition, along with the fact that **you don't know which one is repeated**. Hint: you'll have to multiply your final \"permutation with repetition\"-result to account for that.\n",
        "- For the numerator, use the numerator you used before: the number of trials the thief can try before the phone access is blocked.\n"
      ]
    },
    {
      "cell_type": "code",
      "execution_count": 18,
      "metadata": {
        "colab": {
          "base_uri": "https://localhost:8080/"
        },
        "id": "UOYqWMu6cAE_",
        "outputId": "74358365-96d5-45aa-9ba8-8803fe141d9e"
      },
      "outputs": [
        {
          "output_type": "execute_result",
          "data": {
            "text/plain": [
              "36.0"
            ]
          },
          "metadata": {},
          "execution_count": 18
        }
      ],
      "source": [
        "denom_phone_smudge_2 = ((4*3*2*1)/2) * 3 #or use math.factorial(4) / 2 identical numbers * 3 possible reused numbers\n",
        "denom_phone_smudge_2\n"
      ]
    },
    {
      "cell_type": "code",
      "execution_count": null,
      "metadata": {
        "id": "2JXCAX3qcAFA"
      },
      "outputs": [],
      "source": [
        "numer_phone_smudge_2 = 5 # 5 tries at unlocking the phone\n",
        "numer_phone_smudge_2"
      ]
    },
    {
      "cell_type": "code",
      "execution_count": 19,
      "metadata": {
        "colab": {
          "base_uri": "https://localhost:8080/"
        },
        "id": "PqTSM4mrcAFA",
        "outputId": "66de6fc5-0da2-4970-9b9f-7de51653b2dd"
      },
      "outputs": [
        {
          "output_type": "execute_result",
          "data": {
            "text/plain": [
              "0.1388888888888889"
            ]
          },
          "metadata": {},
          "execution_count": 19
        }
      ],
      "source": [
        "prob_unlock_smudge_2 = numer_phone_smudge_2/denom_phone_smudge_2\n",
        "prob_unlock_smudge_2"
      ]
    },
    {
      "cell_type": "markdown",
      "metadata": {
        "id": "9RkVwePxcAFA"
      },
      "source": [
        "## Permutations to Find the Sample and Event Space"
      ]
    },
    {
      "cell_type": "markdown",
      "metadata": {
        "id": "29NTrkMMcAFA"
      },
      "source": [
        "What are the odds of throwing a \"full house\" when throwing 5 dice?  Recall, a full house means that you'd throw a three of a certain number along with a pair of a different number."
      ]
    },
    {
      "cell_type": "markdown",
      "metadata": {
        "id": "CvuhdCUYcAFB"
      },
      "source": [
        "###  a) Sample space"
      ]
    },
    {
      "cell_type": "markdown",
      "metadata": {
        "id": "mOJNAljNcAFB"
      },
      "source": [
        "First, calculate the sample space. Recall that replacement is possible here."
      ]
    },
    {
      "cell_type": "code",
      "execution_count": 20,
      "metadata": {
        "colab": {
          "base_uri": "https://localhost:8080/"
        },
        "id": "7zi_aMs1cAFB",
        "outputId": "b79547dc-2809-48a1-e653-014fb7043ecf"
      },
      "outputs": [
        {
          "output_type": "execute_result",
          "data": {
            "text/plain": [
              "7776"
            ]
          },
          "metadata": {},
          "execution_count": 20
        }
      ],
      "source": [
        "sample_space_fh = 6**5 # 5 dice, each can be a number between 1-6\n",
        "sample_space_fh"
      ]
    },
    {
      "cell_type": "markdown",
      "metadata": {
        "id": "mChwbQZzcAFC"
      },
      "source": [
        "### b) Event space"
      ]
    },
    {
      "cell_type": "markdown",
      "metadata": {
        "id": "LozBv-_2cAFC"
      },
      "source": [
        "Next, calculate the event space. The best way to think of the event space here is to split it up in 2 parts:\n",
        "- first, try to constrain your problem to a more specific problem, let's say, how many ways can we throw a full house if we have a pair of 4s and three 6s?\n",
        "- next, extend your problem by asking yourself how many *different* full houses are possible.\n",
        "- multiply the two!"
      ]
    },
    {
      "cell_type": "code",
      "execution_count": 21,
      "metadata": {
        "colab": {
          "base_uri": "https://localhost:8080/"
        },
        "id": "I3A5M4KHcAFC",
        "outputId": "d8966224-a9fa-421a-bf47-f9267d75b65b"
      },
      "outputs": [
        {
          "output_type": "execute_result",
          "data": {
            "text/plain": [
              "10.0"
            ]
          },
          "metadata": {},
          "execution_count": 21
        }
      ],
      "source": [
        "ways_to_throw_given_fh= factorial(5)/ (factorial(3)* factorial(2)) # permutation with repetitions\n",
        "ways_to_throw_given_fh"
      ]
    },
    {
      "cell_type": "code",
      "execution_count": 22,
      "metadata": {
        "colab": {
          "base_uri": "https://localhost:8080/"
        },
        "id": "9eyJoiEhcAFD",
        "outputId": "dfa73fa7-a222-4a6a-91e8-e8b8cc8982e2"
      },
      "outputs": [
        {
          "output_type": "execute_result",
          "data": {
            "text/plain": [
              "30.0"
            ]
          },
          "metadata": {},
          "execution_count": 22
        }
      ],
      "source": [
        "diff_fhses = math.factorial(6)/math.factorial(4) # P_{k}^{n}= n!/(n-k)! = (6!)/(6-2)!\n",
        "diff_fhses"
      ]
    },
    {
      "cell_type": "markdown",
      "metadata": {
        "id": "YgFn-QNUcAFD"
      },
      "source": [
        "Then the event space is"
      ]
    },
    {
      "cell_type": "code",
      "execution_count": 23,
      "metadata": {
        "colab": {
          "base_uri": "https://localhost:8080/"
        },
        "id": "J9HDm41ucAFD",
        "outputId": "3b5e15a6-0b00-4007-9b29-4c993b95974c"
      },
      "outputs": [
        {
          "output_type": "execute_result",
          "data": {
            "text/plain": [
              "300.0"
            ]
          },
          "metadata": {},
          "execution_count": 23
        }
      ],
      "source": [
        "event_space_fh =  ways_to_throw_given_fh * diff_fhses\n",
        "event_space_fh"
      ]
    },
    {
      "cell_type": "markdown",
      "metadata": {
        "id": "xBGzCi2vcAFD"
      },
      "source": [
        "### c) Probability of full house"
      ]
    },
    {
      "cell_type": "code",
      "execution_count": 24,
      "metadata": {
        "colab": {
          "base_uri": "https://localhost:8080/"
        },
        "id": "fg878iGacAFD",
        "outputId": "57a3e94f-1047-485b-e967-37bd13b220f3"
      },
      "outputs": [
        {
          "output_type": "execute_result",
          "data": {
            "text/plain": [
              "0.038580246913580245"
            ]
          },
          "metadata": {},
          "execution_count": 24
        }
      ],
      "source": [
        "prob_fh = event_space_fh/sample_space_fh\n",
        "\n",
        "prob_fh"
      ]
    },
    {
      "cell_type": "markdown",
      "metadata": {
        "id": "Q6WdAtwucAFE"
      },
      "source": [
        "## Level-Up: Factorials and Recursion\n",
        "\n",
        "Let's return to factorials for a moment. In the last lesson, we talked about permutations in the context of a coverband creating a setlist. We wanted to know how many ways we could order 3 songs in their setlist. There were 3 possible ways of choosing a first song, 2 possible ways of choosing a second song, and only 1 way of choosing a third and final song, for $3 * 2 *1 = 6$ different ways in which the three different songs could be played. This number, 6, is equal to the factorial of 3, $3!$, the number of permutations of 3 distinct objects.\n",
        "\n",
        "Here, $3! = (3 * 2 * 1) = 6$. Notice that this is the same as writing $3 * 2! = 3 * (2 * 1)$ and $3 * 2 * 1! = 3 * 2 * (1)$. (By definition, the factorial of 1, $1!$, is equal to 1. The factorial of 0, $0!$ is also defined to be equal to 1.)\n",
        "\n",
        "We can generalize this to the case of computing the factorial of an integer n, $n!$. The factorial of n, $n!$, can be written as $n * (n-1)!$, which itself can be written as $n * (n-1) * (n-2)!$. That is, we can define the factorial of n in terms of the product of n by the factorial of (n-1), and so on and so forth, as seen in the equation below:\n",
        "\n",
        "$$ n! = n * (n-1)! = n * (n-1) * (n-2)! = ... = n * (n-1) * (n-2) * \\ldots * 1! = n* (n-1) * (n-2) * \\ldots * 2 * 1 $$\n",
        "\n",
        "Earlier in this lab, we defined a Python function, `factorial(n)`, to compute the factorial of an integer n. In that case, we used a `while` loop with a stopping criterion to obtain a result.\n",
        "\n",
        "However, there is another way we could have defined this function, using the __recursive__ nature of the factorial function.\n",
        "\n",
        "### Recursion\n",
        "When we define a function in terms of itself, in this case, the factorial of n in terms of the factorial of (n-1), we are using **recursion**.  Recursive functions are functions that can call themselves in order to loop until a condition is met.\n",
        "\n",
        "We can use recursion to define a function that will return the factorial of an integer n as follows:\n",
        "\n",
        "``` python\n",
        "def factorial_recursion(n):\n",
        "    if n == 1:\n",
        "        return 1\n",
        "    else:\n",
        "        return n * factorial_recursion(n-1)\n",
        "```\n",
        "\n",
        "Let's go over what happens with this function for the case n = 3:\n",
        "\n",
        "* To start, since n is not equal to 1, we skip the `if` statement and continue to the `else` statement, where we obtain that `factorial_recursion(3) = 3 * factorial_recursion(2)`.\n",
        "\n",
        "* To calculate `factorial_recursion(2)`, since the argument passed to the function is not equal to 1, we once again skip the `if` statement and continue to the `else` statement, where we obtain that `factorial_recursion(2) = 2 * factorial_recursion(1)`.\n",
        "    * At this point, `factorial_recursion(3) = 3 * (2 * factorial_recursion(1))`\n",
        "\n",
        "* To calculate `factorial_recursion(1)`, since the argument passed to the function _is_ equal to 1, we return 1.\n",
        "    * At this point, `factorial_recursion(3) = 3 * 2 * 1`, and our code returns the answer we expect, `6`.\n",
        "\n",
        "Try it out in the code cell below!"
      ]
    },
    {
      "cell_type": "code",
      "execution_count": null,
      "metadata": {
        "id": "0lXJ85GecAFE"
      },
      "outputs": [],
      "source": [
        "# Uncomment the lines of code below:\n",
        "\n",
        "# def factorial_recursion(n):\n",
        "#     if n == 1:\n",
        "#         return 1\n",
        "#     else:\n",
        "#         return n * factorial(n-1)\n",
        "\n",
        "# factorial_recursion(3)"
      ]
    },
    {
      "cell_type": "markdown",
      "metadata": {
        "id": "N2uvKaAGcAFF"
      },
      "source": [
        "As a last step, check that the result you obtain with the `factorial_recursion` function for n = 3 is the same as the result you obtain with the `factorial` function defined earlier in this lab:"
      ]
    },
    {
      "cell_type": "code",
      "execution_count": 25,
      "metadata": {
        "colab": {
          "base_uri": "https://localhost:8080/"
        },
        "id": "WFYsatTCcAFF",
        "outputId": "88b0dc5a-3a61-46bc-b2c6-c5652679ba72"
      },
      "outputs": [
        {
          "output_type": "execute_result",
          "data": {
            "text/plain": [
              "6"
            ]
          },
          "metadata": {},
          "execution_count": 25
        }
      ],
      "source": [
        "# Your code here\n",
        "factorial(3)"
      ]
    },
    {
      "cell_type": "markdown",
      "metadata": {
        "id": "gm6inoX9cAFF"
      },
      "source": [
        "Good job!\n",
        "\n",
        "## Summary"
      ]
    },
    {
      "cell_type": "markdown",
      "metadata": {
        "id": "aIt9ZzFZcAFF"
      },
      "source": [
        "In this lab, you got quite some practice with permutations and factorials, and were even able to use it to calculate probability. You also had a gentle introduction to recursive functions in Python. You'll have a chance to learn much more about recursion in Python and solve some problems using recursion in the Appendix to this Module.\n",
        "\n",
        "Now, we'll move over to another concept in combinatorics: combinations."
      ]
    }
  ],
  "metadata": {
    "kernelspec": {
      "display_name": "Python 3",
      "language": "python",
      "name": "python3"
    },
    "language_info": {
      "codemirror_mode": {
        "name": "ipython",
        "version": 3
      },
      "file_extension": ".py",
      "mimetype": "text/x-python",
      "name": "python",
      "nbconvert_exporter": "python",
      "pygments_lexer": "ipython3",
      "version": "3.8.5"
    },
    "toc": {
      "base_numbering": 1,
      "nav_menu": {},
      "number_sections": true,
      "sideBar": true,
      "skip_h1_title": false,
      "title_cell": "Table of Contents",
      "title_sidebar": "Contents",
      "toc_cell": false,
      "toc_position": {},
      "toc_section_display": true,
      "toc_window_display": false
    },
    "colab": {
      "provenance": []
    }
  },
  "nbformat": 4,
  "nbformat_minor": 0
}